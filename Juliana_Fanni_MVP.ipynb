{
  "nbformat": 4,
  "nbformat_minor": 0,
  "metadata": {
    "colab": {
      "provenance": [],
      "toc_visible": true,
      "authorship_tag": "ABX9TyO/w9Bb4wmdjQWl0w54FHBC",
      "include_colab_link": true
    },
    "kernelspec": {
      "name": "python3",
      "display_name": "Python 3"
    },
    "language_info": {
      "name": "python"
    }
  },
  "cells": [
    {
      "cell_type": "markdown",
      "metadata": {
        "id": "view-in-github",
        "colab_type": "text"
      },
      "source": [
        "<a href=\"https://colab.research.google.com/github/JulianaFanni/mvp-MachineLearning-Analytics/blob/main/Juliana_Fanni_MVP.ipynb\" target=\"_parent\"><img src=\"https://colab.research.google.com/assets/colab-badge.svg\" alt=\"Open In Colab\"/></a>"
      ]
    },
    {
      "cell_type": "markdown",
      "source": [
        "# MVP- Juliana Fanni\n",
        "\n",
        "Disciplina: Sprint: Machine Learning & Analytics\n",
        "\n",
        "Profs. Hugo Villamizar e Patrick Happ\n",
        "\n",
        "Aluna: Juliana Cardozo Pereira Fanni"
      ],
      "metadata": {
        "id": "W57QZJHpMilq"
      }
    },
    {
      "cell_type": "markdown",
      "source": [
        "## 1. Definição do Problema\n",
        "\n",
        "A instituição é uma organização que tem como objetivo projetos de pesquisas científicas na área de saúde.\n",
        "\n",
        "Dentre das diversas iniciativas da instituição, temos uma Plataforma API (Assistência & Pesquisa Integradas) que integra a comunidade médica da Oncologia para desenvolver novas pesquisas com o instituto.\n",
        "Contando com uma base unificada de dados clínicos integrada aos banco de dados, para desenvolver estudos que preencham lacunas importantes do conhecimento em oncologia. A missão da Plataforma API é fomentar o avanço da pesquisa em oncologia no Brasil a partir de um modelo inovador de colaboração no qual os médicos responsáveis pelo cuidado também assumem o papel de pesquisadores.\n",
        "\n",
        "Diante do acima exposto, o objetivo deste trabalho é rastrear e identificar tipos de sinais suspeitos de cancer de pele do paciente e assim classificar como um Cancer contribuindo para o diagnóstico do médico.\n",
        "Esta iniciativa vem se mostrado relevante pela possibilidade da identificação precoce de doenças que apresentam maior probabilidade de cura quando tratadas em estágios iniciais\n",
        "\n",
        "O dataset usado neste projeto será do https://huggingface.co/datasets/marmal88/skin_cancer , por haver um grande numero de imagens dos diversos tipo de manchas na pele e servir de experimento para o dataset futuro do banco de dados da instituição."
      ],
      "metadata": {
        "id": "QR8Dp3m7OBWR"
      }
    },
    {
      "cell_type": "code",
      "source": [
        "import os\n",
        "import numpy as np\n",
        "import pandas as pd\n",
        "import tensorflow as tf\n",
        "import sklearn.metrics as skm\n",
        "from tensorflow import keras\n",
        "from tensorflow.keras.preprocessing.image import ImageDataGenerator\n",
        "from sklearn.preprocessing import StandardScaler\n",
        "from sklearn.model_selection import train_test_split, cross_val_score\n",
        "from IPython.display import Image, display\n",
        "from sklearn.linear_model import LinearRegression\n",
        "from datetime import datetime\n",
        "from sklearn.metrics import confusion_matrix, classification_report\n",
        "import itertools\n",
        "import numpy as np\n",
        "import sklearn.metrics as skm\n",
        "import matplotlib.pyplot as plt\n",
        "from transformers import Trainer, TrainingArguments, AutoModelForSequenceClassification, AutoTokenizer\n",
        "from keras.preprocessing.image import ImageDataGenerator\n",
        "from keras import models\n",
        "from keras import layers\n",
        "from google.colab import drive # acesso ao drive do google Colab - 'drive.mount'\n",
        "\n",
        "from tensorflow.keras.preprocessing import image"
      ],
      "metadata": {
        "id": "a61ohohjmvXe"
      },
      "execution_count": 31,
      "outputs": []
    },
    {
      "cell_type": "code",
      "source": [
        "# instalando a biblioteca gdown\n",
        "!pip install gdown\n",
        "import gdown"
      ],
      "metadata": {
        "colab": {
          "base_uri": "https://localhost:8080/"
        },
        "id": "7WrF45saLTUv",
        "outputId": "aa69ab06-be5c-4a25-e052-a33560297eb7"
      },
      "execution_count": 32,
      "outputs": [
        {
          "output_type": "stream",
          "name": "stdout",
          "text": [
            "Requirement already satisfied: gdown in /usr/local/lib/python3.10/dist-packages (5.1.0)\n",
            "Requirement already satisfied: beautifulsoup4 in /usr/local/lib/python3.10/dist-packages (from gdown) (4.12.3)\n",
            "Requirement already satisfied: filelock in /usr/local/lib/python3.10/dist-packages (from gdown) (3.13.4)\n",
            "Requirement already satisfied: requests[socks] in /usr/local/lib/python3.10/dist-packages (from gdown) (2.31.0)\n",
            "Requirement already satisfied: tqdm in /usr/local/lib/python3.10/dist-packages (from gdown) (4.66.2)\n",
            "Requirement already satisfied: soupsieve>1.2 in /usr/local/lib/python3.10/dist-packages (from beautifulsoup4->gdown) (2.5)\n",
            "Requirement already satisfied: charset-normalizer<4,>=2 in /usr/local/lib/python3.10/dist-packages (from requests[socks]->gdown) (3.3.2)\n",
            "Requirement already satisfied: idna<4,>=2.5 in /usr/local/lib/python3.10/dist-packages (from requests[socks]->gdown) (3.7)\n",
            "Requirement already satisfied: urllib3<3,>=1.21.1 in /usr/local/lib/python3.10/dist-packages (from requests[socks]->gdown) (2.0.7)\n",
            "Requirement already satisfied: certifi>=2017.4.17 in /usr/local/lib/python3.10/dist-packages (from requests[socks]->gdown) (2024.2.2)\n",
            "Requirement already satisfied: PySocks!=1.5.7,>=1.5.6 in /usr/local/lib/python3.10/dist-packages (from requests[socks]->gdown) (1.7.1)\n"
          ]
        }
      ]
    },
    {
      "cell_type": "code",
      "source": [
        "# instalando dependencias\n",
        "! pip install transformers[torch] datasets evaluate scikit-learn matplotlib\n"
      ],
      "metadata": {
        "colab": {
          "base_uri": "https://localhost:8080/"
        },
        "id": "97PY-kHzX0YW",
        "outputId": "38aa278b-88a3-43bb-b6e1-b44715e287ea"
      },
      "execution_count": 33,
      "outputs": [
        {
          "output_type": "stream",
          "name": "stdout",
          "text": [
            "Requirement already satisfied: transformers[torch] in /usr/local/lib/python3.10/dist-packages (4.40.0)\n",
            "Requirement already satisfied: datasets in /usr/local/lib/python3.10/dist-packages (2.19.0)\n",
            "Requirement already satisfied: evaluate in /usr/local/lib/python3.10/dist-packages (0.4.1)\n",
            "Requirement already satisfied: scikit-learn in /usr/local/lib/python3.10/dist-packages (1.2.2)\n",
            "Requirement already satisfied: matplotlib in /usr/local/lib/python3.10/dist-packages (3.7.1)\n",
            "Requirement already satisfied: filelock in /usr/local/lib/python3.10/dist-packages (from transformers[torch]) (3.13.4)\n",
            "Requirement already satisfied: huggingface-hub<1.0,>=0.19.3 in /usr/local/lib/python3.10/dist-packages (from transformers[torch]) (0.22.2)\n",
            "Requirement already satisfied: numpy>=1.17 in /usr/local/lib/python3.10/dist-packages (from transformers[torch]) (1.25.2)\n",
            "Requirement already satisfied: packaging>=20.0 in /usr/local/lib/python3.10/dist-packages (from transformers[torch]) (24.0)\n",
            "Requirement already satisfied: pyyaml>=5.1 in /usr/local/lib/python3.10/dist-packages (from transformers[torch]) (6.0.1)\n",
            "Requirement already satisfied: regex!=2019.12.17 in /usr/local/lib/python3.10/dist-packages (from transformers[torch]) (2023.12.25)\n",
            "Requirement already satisfied: requests in /usr/local/lib/python3.10/dist-packages (from transformers[torch]) (2.31.0)\n",
            "Requirement already satisfied: tokenizers<0.20,>=0.19 in /usr/local/lib/python3.10/dist-packages (from transformers[torch]) (0.19.1)\n",
            "Requirement already satisfied: safetensors>=0.4.1 in /usr/local/lib/python3.10/dist-packages (from transformers[torch]) (0.4.3)\n",
            "Requirement already satisfied: tqdm>=4.27 in /usr/local/lib/python3.10/dist-packages (from transformers[torch]) (4.66.2)\n",
            "Requirement already satisfied: torch in /usr/local/lib/python3.10/dist-packages (from transformers[torch]) (2.2.1+cu121)\n",
            "Requirement already satisfied: accelerate>=0.21.0 in /usr/local/lib/python3.10/dist-packages (from transformers[torch]) (0.29.3)\n",
            "Requirement already satisfied: pyarrow>=12.0.0 in /usr/local/lib/python3.10/dist-packages (from datasets) (14.0.2)\n",
            "Requirement already satisfied: pyarrow-hotfix in /usr/local/lib/python3.10/dist-packages (from datasets) (0.6)\n",
            "Requirement already satisfied: dill<0.3.9,>=0.3.0 in /usr/local/lib/python3.10/dist-packages (from datasets) (0.3.8)\n",
            "Requirement already satisfied: pandas in /usr/local/lib/python3.10/dist-packages (from datasets) (2.0.3)\n",
            "Requirement already satisfied: xxhash in /usr/local/lib/python3.10/dist-packages (from datasets) (3.4.1)\n",
            "Requirement already satisfied: multiprocess in /usr/local/lib/python3.10/dist-packages (from datasets) (0.70.16)\n",
            "Requirement already satisfied: fsspec[http]<=2024.3.1,>=2023.1.0 in /usr/local/lib/python3.10/dist-packages (from datasets) (2023.6.0)\n",
            "Requirement already satisfied: aiohttp in /usr/local/lib/python3.10/dist-packages (from datasets) (3.9.5)\n",
            "Requirement already satisfied: responses<0.19 in /usr/local/lib/python3.10/dist-packages (from evaluate) (0.18.0)\n",
            "Requirement already satisfied: scipy>=1.3.2 in /usr/local/lib/python3.10/dist-packages (from scikit-learn) (1.11.4)\n",
            "Requirement already satisfied: joblib>=1.1.1 in /usr/local/lib/python3.10/dist-packages (from scikit-learn) (1.4.0)\n",
            "Requirement already satisfied: threadpoolctl>=2.0.0 in /usr/local/lib/python3.10/dist-packages (from scikit-learn) (3.4.0)\n",
            "Requirement already satisfied: contourpy>=1.0.1 in /usr/local/lib/python3.10/dist-packages (from matplotlib) (1.2.1)\n",
            "Requirement already satisfied: cycler>=0.10 in /usr/local/lib/python3.10/dist-packages (from matplotlib) (0.12.1)\n",
            "Requirement already satisfied: fonttools>=4.22.0 in /usr/local/lib/python3.10/dist-packages (from matplotlib) (4.51.0)\n",
            "Requirement already satisfied: kiwisolver>=1.0.1 in /usr/local/lib/python3.10/dist-packages (from matplotlib) (1.4.5)\n",
            "Requirement already satisfied: pillow>=6.2.0 in /usr/local/lib/python3.10/dist-packages (from matplotlib) (9.4.0)\n",
            "Requirement already satisfied: pyparsing>=2.3.1 in /usr/local/lib/python3.10/dist-packages (from matplotlib) (3.1.2)\n",
            "Requirement already satisfied: python-dateutil>=2.7 in /usr/local/lib/python3.10/dist-packages (from matplotlib) (2.8.2)\n",
            "Requirement already satisfied: psutil in /usr/local/lib/python3.10/dist-packages (from accelerate>=0.21.0->transformers[torch]) (5.9.5)\n",
            "Requirement already satisfied: aiosignal>=1.1.2 in /usr/local/lib/python3.10/dist-packages (from aiohttp->datasets) (1.3.1)\n",
            "Requirement already satisfied: attrs>=17.3.0 in /usr/local/lib/python3.10/dist-packages (from aiohttp->datasets) (23.2.0)\n",
            "Requirement already satisfied: frozenlist>=1.1.1 in /usr/local/lib/python3.10/dist-packages (from aiohttp->datasets) (1.4.1)\n",
            "Requirement already satisfied: multidict<7.0,>=4.5 in /usr/local/lib/python3.10/dist-packages (from aiohttp->datasets) (6.0.5)\n",
            "Requirement already satisfied: yarl<2.0,>=1.0 in /usr/local/lib/python3.10/dist-packages (from aiohttp->datasets) (1.9.4)\n",
            "Requirement already satisfied: async-timeout<5.0,>=4.0 in /usr/local/lib/python3.10/dist-packages (from aiohttp->datasets) (4.0.3)\n",
            "Requirement already satisfied: typing-extensions>=3.7.4.3 in /usr/local/lib/python3.10/dist-packages (from huggingface-hub<1.0,>=0.19.3->transformers[torch]) (4.11.0)\n",
            "Requirement already satisfied: six>=1.5 in /usr/local/lib/python3.10/dist-packages (from python-dateutil>=2.7->matplotlib) (1.16.0)\n",
            "Requirement already satisfied: charset-normalizer<4,>=2 in /usr/local/lib/python3.10/dist-packages (from requests->transformers[torch]) (3.3.2)\n",
            "Requirement already satisfied: idna<4,>=2.5 in /usr/local/lib/python3.10/dist-packages (from requests->transformers[torch]) (3.7)\n",
            "Requirement already satisfied: urllib3<3,>=1.21.1 in /usr/local/lib/python3.10/dist-packages (from requests->transformers[torch]) (2.0.7)\n",
            "Requirement already satisfied: certifi>=2017.4.17 in /usr/local/lib/python3.10/dist-packages (from requests->transformers[torch]) (2024.2.2)\n",
            "Requirement already satisfied: sympy in /usr/local/lib/python3.10/dist-packages (from torch->transformers[torch]) (1.12)\n",
            "Requirement already satisfied: networkx in /usr/local/lib/python3.10/dist-packages (from torch->transformers[torch]) (3.3)\n",
            "Requirement already satisfied: jinja2 in /usr/local/lib/python3.10/dist-packages (from torch->transformers[torch]) (3.1.3)\n",
            "Requirement already satisfied: nvidia-cuda-nvrtc-cu12==12.1.105 in /usr/local/lib/python3.10/dist-packages (from torch->transformers[torch]) (12.1.105)\n",
            "Requirement already satisfied: nvidia-cuda-runtime-cu12==12.1.105 in /usr/local/lib/python3.10/dist-packages (from torch->transformers[torch]) (12.1.105)\n",
            "Requirement already satisfied: nvidia-cuda-cupti-cu12==12.1.105 in /usr/local/lib/python3.10/dist-packages (from torch->transformers[torch]) (12.1.105)\n",
            "Requirement already satisfied: nvidia-cudnn-cu12==8.9.2.26 in /usr/local/lib/python3.10/dist-packages (from torch->transformers[torch]) (8.9.2.26)\n",
            "Requirement already satisfied: nvidia-cublas-cu12==12.1.3.1 in /usr/local/lib/python3.10/dist-packages (from torch->transformers[torch]) (12.1.3.1)\n",
            "Requirement already satisfied: nvidia-cufft-cu12==11.0.2.54 in /usr/local/lib/python3.10/dist-packages (from torch->transformers[torch]) (11.0.2.54)\n",
            "Requirement already satisfied: nvidia-curand-cu12==10.3.2.106 in /usr/local/lib/python3.10/dist-packages (from torch->transformers[torch]) (10.3.2.106)\n",
            "Requirement already satisfied: nvidia-cusolver-cu12==11.4.5.107 in /usr/local/lib/python3.10/dist-packages (from torch->transformers[torch]) (11.4.5.107)\n",
            "Requirement already satisfied: nvidia-cusparse-cu12==12.1.0.106 in /usr/local/lib/python3.10/dist-packages (from torch->transformers[torch]) (12.1.0.106)\n",
            "Requirement already satisfied: nvidia-nccl-cu12==2.19.3 in /usr/local/lib/python3.10/dist-packages (from torch->transformers[torch]) (2.19.3)\n",
            "Requirement already satisfied: nvidia-nvtx-cu12==12.1.105 in /usr/local/lib/python3.10/dist-packages (from torch->transformers[torch]) (12.1.105)\n",
            "Requirement already satisfied: triton==2.2.0 in /usr/local/lib/python3.10/dist-packages (from torch->transformers[torch]) (2.2.0)\n",
            "Requirement already satisfied: nvidia-nvjitlink-cu12 in /usr/local/lib/python3.10/dist-packages (from nvidia-cusolver-cu12==11.4.5.107->torch->transformers[torch]) (12.4.127)\n",
            "Requirement already satisfied: pytz>=2020.1 in /usr/local/lib/python3.10/dist-packages (from pandas->datasets) (2023.4)\n",
            "Requirement already satisfied: tzdata>=2022.1 in /usr/local/lib/python3.10/dist-packages (from pandas->datasets) (2024.1)\n",
            "Requirement already satisfied: MarkupSafe>=2.0 in /usr/local/lib/python3.10/dist-packages (from jinja2->torch->transformers[torch]) (2.1.5)\n",
            "Requirement already satisfied: mpmath>=0.19 in /usr/local/lib/python3.10/dist-packages (from sympy->torch->transformers[torch]) (1.3.0)\n"
          ]
        }
      ]
    },
    {
      "cell_type": "code",
      "source": [
        "from datasets import load_dataset\n",
        "\n",
        "dataset = load_dataset(\"marmal88/skin_cancer\")"
      ],
      "metadata": {
        "id": "Z4nSJCtNh9PE"
      },
      "execution_count": 34,
      "outputs": []
    },
    {
      "cell_type": "code",
      "source": [
        "#Analisando o Dataset\n",
        "dataset"
      ],
      "metadata": {
        "id": "tRywo7yPdAVD",
        "outputId": "dd12a368-c9ea-49b1-db14-ce3c7b0c2e9b",
        "colab": {
          "base_uri": "https://localhost:8080/"
        }
      },
      "execution_count": 35,
      "outputs": [
        {
          "output_type": "execute_result",
          "data": {
            "text/plain": [
              "DatasetDict({\n",
              "    train: Dataset({\n",
              "        features: ['image', 'image_id', 'lesion_id', 'dx', 'dx_type', 'age', 'sex', 'localization'],\n",
              "        num_rows: 9577\n",
              "    })\n",
              "    validation: Dataset({\n",
              "        features: ['image', 'image_id', 'lesion_id', 'dx', 'dx_type', 'age', 'sex', 'localization'],\n",
              "        num_rows: 2492\n",
              "    })\n",
              "    test: Dataset({\n",
              "        features: ['image', 'image_id', 'lesion_id', 'dx', 'dx_type', 'age', 'sex', 'localization'],\n",
              "        num_rows: 1285\n",
              "    })\n",
              "})"
            ]
          },
          "metadata": {},
          "execution_count": 35
        }
      ]
    },
    {
      "cell_type": "markdown",
      "source": [
        "O dataset já veio separado com as bases train, test e validation.\n",
        "Agora, irei analisar o número de imagens que o dataset possui"
      ],
      "metadata": {
        "id": "kYycN6ZodWGE"
      }
    },
    {
      "cell_type": "code",
      "source": [
        "train_dataset = len(dataset['train'])\n",
        "val_dataset = len(dataset['validation'])\n",
        "test_dataset = len(dataset['test'])\n",
        "\n",
        "tam_train_dataset = len(dataset['train'])\n",
        "tam_val_dataset = len(dataset['validation'])\n",
        "tam_test_dataset = len(dataset['test'])\n",
        "\n",
        "print(f\"Temos um total de {tam_test_dataset} para o teste do modelo de deep learning\")\n",
        "print(f\"Temos um total de {tam_train_dataset} para o treinamento do modelo de deep learning\")\n",
        "print(f\"Temos um total de {tam_val_dataset} para avaliação do modelo de deep learning\")\n"
      ],
      "metadata": {
        "id": "QnDsHcpcdZXH",
        "outputId": "847e204f-d967-4b6a-905e-dfa9254c9223",
        "colab": {
          "base_uri": "https://localhost:8080/"
        }
      },
      "execution_count": 36,
      "outputs": [
        {
          "output_type": "stream",
          "name": "stdout",
          "text": [
            "Temos um total de 1285 para o teste do modelo de deep learning\n",
            "Temos um total de 9577 para o treinamento do modelo de deep learning\n",
            "Temos um total de 2492 para avaliação do modelo de deep learning\n"
          ]
        }
      ]
    },
    {
      "cell_type": "code",
      "source": [
        "print(f\"Informações dos 10 primeiros de avaliação: \\n {dataset['test'][:10]}\")\n",
        "\n",
        "print(f\"Informações dos 10 primeiros de treinamento: \\n {dataset['train'][:10]}\")\n",
        "\n",
        "print(f\"Informações dos 10 primeiros de avaliação: \\n {dataset['validation'][:10]}\")\n",
        "\n",
        "\n"
      ],
      "metadata": {
        "id": "8JGdidIxefhp",
        "outputId": "1687d1d7-37c0-48c8-af39-3ae534b4cd36",
        "colab": {
          "base_uri": "https://localhost:8080/"
        }
      },
      "execution_count": 37,
      "outputs": [
        {
          "output_type": "stream",
          "name": "stdout",
          "text": [
            "Informações dos 10 primeiros de avaliação: \n",
            " {'image': [<PIL.JpegImagePlugin.JpegImageFile image mode=RGB size=600x450 at 0x7E613211B040>, <PIL.JpegImagePlugin.JpegImageFile image mode=RGB size=600x450 at 0x7E613211B0A0>, <PIL.JpegImagePlugin.JpegImageFile image mode=RGB size=600x450 at 0x7E613211B160>, <PIL.JpegImagePlugin.JpegImageFile image mode=RGB size=600x450 at 0x7E6132118130>, <PIL.JpegImagePlugin.JpegImageFile image mode=RGB size=600x450 at 0x7E613211A980>, <PIL.JpegImagePlugin.JpegImageFile image mode=RGB size=600x450 at 0x7E613211A920>, <PIL.JpegImagePlugin.JpegImageFile image mode=RGB size=600x450 at 0x7E6132118190>, <PIL.JpegImagePlugin.JpegImageFile image mode=RGB size=600x450 at 0x7E6132118280>, <PIL.JpegImagePlugin.JpegImageFile image mode=RGB size=600x450 at 0x7E613211B610>, <PIL.JpegImagePlugin.JpegImageFile image mode=RGB size=600x450 at 0x7E613211B4F0>], 'image_id': ['ISIC_0024329', 'ISIC_0024654', 'ISIC_0024707', 'ISIC_0024763', 'ISIC_0025539', 'ISIC_0025605', 'ISIC_0025803', 'ISIC_0025953', 'ISIC_0025992', 'ISIC_0026138'], 'lesion_id': ['HAM_0002954', 'HAM_0005705', 'HAM_0005448', 'HAM_0006524', 'HAM_0000967', 'HAM_0007047', 'HAM_0005024', 'HAM_0002461', 'HAM_0005480', 'HAM_0005027'], 'dx': ['actinic_keratoses', 'actinic_keratoses', 'actinic_keratoses', 'actinic_keratoses', 'actinic_keratoses', 'actinic_keratoses', 'actinic_keratoses', 'actinic_keratoses', 'actinic_keratoses', 'actinic_keratoses'], 'dx_type': ['histo', 'histo', 'histo', 'histo', 'histo', 'histo', 'histo', 'histo', 'histo', 'histo'], 'age': [75.0, 75.0, 60.0, 65.0, 75.0, 60.0, 80.0, 65.0, 65.0, 85.0], 'sex': ['female', 'female', 'male', 'male', 'male', 'female', 'male', 'male', 'male', 'female'], 'localization': ['lower extremity', 'lower extremity', 'face', 'ear', 'lower extremity', 'lower extremity', 'face', 'face', 'face', 'back']}\n",
            "Informações dos 10 primeiros de treinamento: \n",
            " {'image': [<PIL.JpegImagePlugin.JpegImageFile image mode=RGB size=600x450 at 0x7E613211B610>, <PIL.JpegImagePlugin.JpegImageFile image mode=RGB size=600x450 at 0x7E61321184F0>, <PIL.JpegImagePlugin.JpegImageFile image mode=RGB size=600x450 at 0x7E613211B640>, <PIL.JpegImagePlugin.JpegImageFile image mode=RGB size=600x450 at 0x7E613211A290>, <PIL.JpegImagePlugin.JpegImageFile image mode=RGB size=600x450 at 0x7E613211B4F0>, <PIL.JpegImagePlugin.JpegImageFile image mode=RGB size=600x450 at 0x7E613211A950>, <PIL.JpegImagePlugin.JpegImageFile image mode=RGB size=600x450 at 0x7E613211B490>, <PIL.JpegImagePlugin.JpegImageFile image mode=RGB size=600x450 at 0x7E613211B4C0>, <PIL.JpegImagePlugin.JpegImageFile image mode=RGB size=600x450 at 0x7E61321181F0>, <PIL.JpegImagePlugin.JpegImageFile image mode=RGB size=600x450 at 0x7E613211A800>], 'image_id': ['ISIC_0024329', 'ISIC_0024372', 'ISIC_0024418', 'ISIC_0024450', 'ISIC_0024463', 'ISIC_0024468', 'ISIC_0024470', 'ISIC_0024511', 'ISIC_0024517', 'ISIC_0024522'], 'lesion_id': ['HAM_0002954', 'HAM_0005389', 'HAM_0003380', 'HAM_0005505', 'HAM_0004568', 'HAM_0006301', 'HAM_0006220', 'HAM_0001505', 'HAM_0001894', 'HAM_0005650'], 'dx': ['actinic_keratoses', 'actinic_keratoses', 'actinic_keratoses', 'actinic_keratoses', 'actinic_keratoses', 'actinic_keratoses', 'actinic_keratoses', 'actinic_keratoses', 'actinic_keratoses', 'actinic_keratoses'], 'dx_type': ['histo', 'histo', 'histo', 'histo', 'histo', 'histo', 'histo', 'histo', 'histo', 'histo'], 'age': [75.0, 70.0, 75.0, 50.0, 50.0, 75.0, 60.0, 55.0, 65.0, 65.0], 'sex': ['female', 'male', 'female', 'male', 'male', 'male', 'male', 'female', 'male', 'male'], 'localization': ['lower extremity', 'lower extremity', 'lower extremity', 'upper extremity', 'upper extremity', 'neck', 'upper extremity', 'face', 'back', 'lower extremity']}\n",
            "Informações dos 10 primeiros de avaliação: \n",
            " {'image': [<PIL.JpegImagePlugin.JpegImageFile image mode=RGB size=600x450 at 0x7E613211B190>, <PIL.JpegImagePlugin.JpegImageFile image mode=RGB size=600x450 at 0x7E613211B0A0>, <PIL.JpegImagePlugin.JpegImageFile image mode=RGB size=600x450 at 0x7E613211B040>, <PIL.JpegImagePlugin.JpegImageFile image mode=RGB size=600x450 at 0x7E613211B160>, <PIL.JpegImagePlugin.JpegImageFile image mode=RGB size=600x450 at 0x7E613211A920>, <PIL.JpegImagePlugin.JpegImageFile image mode=RGB size=600x450 at 0x7E6132118130>, <PIL.JpegImagePlugin.JpegImageFile image mode=RGB size=600x450 at 0x7E613211B070>, <PIL.JpegImagePlugin.JpegImageFile image mode=RGB size=600x450 at 0x7E6132118190>, <PIL.JpegImagePlugin.JpegImageFile image mode=RGB size=600x450 at 0x7E6132118340>, <PIL.JpegImagePlugin.JpegImageFile image mode=RGB size=600x450 at 0x7E613211B6A0>], 'image_id': ['ISIC_0024450', 'ISIC_0024470', 'ISIC_0024511', 'ISIC_0024575', 'ISIC_0024925', 'ISIC_0025029', 'ISIC_0025089', 'ISIC_0025247', 'ISIC_0025331', 'ISIC_0025350'], 'lesion_id': ['HAM_0005505', 'HAM_0006220', 'HAM_0001505', 'HAM_0004722', 'HAM_0006592', 'HAM_0003105', 'HAM_0002705', 'HAM_0005231', 'HAM_0001258', 'HAM_0005701'], 'dx': ['actinic_keratoses', 'actinic_keratoses', 'actinic_keratoses', 'actinic_keratoses', 'actinic_keratoses', 'actinic_keratoses', 'actinic_keratoses', 'actinic_keratoses', 'actinic_keratoses', 'actinic_keratoses'], 'dx_type': ['histo', 'histo', 'histo', 'histo', 'histo', 'histo', 'histo', 'histo', 'histo', 'histo'], 'age': [50.0, 60.0, 55.0, 70.0, 75.0, 75.0, 65.0, 70.0, 80.0, 70.0], 'sex': ['male', 'male', 'female', 'female', 'male', 'female', 'male', 'male', 'male', 'male'], 'localization': ['upper extremity', 'upper extremity', 'face', 'upper extremity', 'abdomen', 'upper extremity', 'scalp', 'lower extremity', 'face', 'lower extremity']}\n"
          ]
        }
      ]
    },
    {
      "cell_type": "markdown",
      "source": [
        "## 2. Acessando e tratando os dados que serão a entrada do modelo de deep learning"
      ],
      "metadata": {
        "id": "Icd6TcYQgaVJ"
      }
    },
    {
      "cell_type": "code",
      "source": [
        "# Dividindo o dataset em tamanho menor, por muitas vezes dar erro no código por não conseguir executar por falta de memoria\n",
        "subset_dataset_train = dataset['train'].select(range(4000))\n",
        "subset_dataset_teste = dataset['test'].select(range(1000))\n",
        "subset_dataset_aval = dataset['validation'].select(range(1000))\n"
      ],
      "metadata": {
        "id": "39DvMJ-9WEFI"
      },
      "execution_count": 38,
      "outputs": []
    },
    {
      "cell_type": "code",
      "source": [
        "tam_test_dataset = len(subset_dataset_teste)\n",
        "tam_train_dataset = len(subset_dataset_train)\n",
        "tam_aval_dataset = len(subset_dataset_aval)\n",
        "\n",
        "print(f\"Temos um total de {tam_test_dataset} para o teste do modelo de deep learning\")\n",
        "print(f\"Temos um total de {tam_train_dataset} para o treinamento do modelo de deep learning\")\n",
        "print(f\"Temos um total de {tam_aval_dataset} para o avaliação do modelo de deep learning\")\n",
        "\n"
      ],
      "metadata": {
        "id": "GQDqgMgIK019",
        "outputId": "ee5b010f-df00-492c-f50b-aebd911c64f0",
        "colab": {
          "base_uri": "https://localhost:8080/"
        }
      },
      "execution_count": 39,
      "outputs": [
        {
          "output_type": "stream",
          "name": "stdout",
          "text": [
            "Temos um total de 1000 para o teste do modelo de deep learning\n",
            "Temos um total de 4000 para o treinamento do modelo de deep learning\n",
            "Temos um total de 1000 para o avaliação do modelo de deep learning\n"
          ]
        }
      ]
    },
    {
      "cell_type": "markdown",
      "source": [
        "## Preparação dos dados"
      ],
      "metadata": {
        "id": "3IXwVs6JFERE"
      }
    },
    {
      "cell_type": "code",
      "source": [
        "# Convertendo para um DataFrame pandas o dataset de Treinamento\n",
        "df_train = pd.DataFrame(subset_dataset_train, columns=subset_dataset_train.features)\n",
        "df_train['class'] = 0\n",
        "df_train.head()"
      ],
      "metadata": {
        "colab": {
          "base_uri": "https://localhost:8080/",
          "height": 206
        },
        "id": "-gEJ06c7PeU7",
        "outputId": "06ec23a6-0cb1-4c09-9f6d-1d2b7dc06e02"
      },
      "execution_count": 40,
      "outputs": [
        {
          "output_type": "execute_result",
          "data": {
            "text/plain": [
              "                                               image      image_id  \\\n",
              "0  <PIL.JpegImagePlugin.JpegImageFile image mode=...  ISIC_0024329   \n",
              "1  <PIL.JpegImagePlugin.JpegImageFile image mode=...  ISIC_0024372   \n",
              "2  <PIL.JpegImagePlugin.JpegImageFile image mode=...  ISIC_0024418   \n",
              "3  <PIL.JpegImagePlugin.JpegImageFile image mode=...  ISIC_0024450   \n",
              "4  <PIL.JpegImagePlugin.JpegImageFile image mode=...  ISIC_0024463   \n",
              "\n",
              "     lesion_id                 dx dx_type   age     sex     localization  \\\n",
              "0  HAM_0002954  actinic_keratoses   histo  75.0  female  lower extremity   \n",
              "1  HAM_0005389  actinic_keratoses   histo  70.0    male  lower extremity   \n",
              "2  HAM_0003380  actinic_keratoses   histo  75.0  female  lower extremity   \n",
              "3  HAM_0005505  actinic_keratoses   histo  50.0    male  upper extremity   \n",
              "4  HAM_0004568  actinic_keratoses   histo  50.0    male  upper extremity   \n",
              "\n",
              "   class  \n",
              "0      0  \n",
              "1      0  \n",
              "2      0  \n",
              "3      0  \n",
              "4      0  "
            ],
            "text/html": [
              "\n",
              "  <div id=\"df-96ca114b-c2c8-456e-bd65-4e090e95cf07\" class=\"colab-df-container\">\n",
              "    <div>\n",
              "<style scoped>\n",
              "    .dataframe tbody tr th:only-of-type {\n",
              "        vertical-align: middle;\n",
              "    }\n",
              "\n",
              "    .dataframe tbody tr th {\n",
              "        vertical-align: top;\n",
              "    }\n",
              "\n",
              "    .dataframe thead th {\n",
              "        text-align: right;\n",
              "    }\n",
              "</style>\n",
              "<table border=\"1\" class=\"dataframe\">\n",
              "  <thead>\n",
              "    <tr style=\"text-align: right;\">\n",
              "      <th></th>\n",
              "      <th>image</th>\n",
              "      <th>image_id</th>\n",
              "      <th>lesion_id</th>\n",
              "      <th>dx</th>\n",
              "      <th>dx_type</th>\n",
              "      <th>age</th>\n",
              "      <th>sex</th>\n",
              "      <th>localization</th>\n",
              "      <th>class</th>\n",
              "    </tr>\n",
              "  </thead>\n",
              "  <tbody>\n",
              "    <tr>\n",
              "      <th>0</th>\n",
              "      <td>&lt;PIL.JpegImagePlugin.JpegImageFile image mode=...</td>\n",
              "      <td>ISIC_0024329</td>\n",
              "      <td>HAM_0002954</td>\n",
              "      <td>actinic_keratoses</td>\n",
              "      <td>histo</td>\n",
              "      <td>75.0</td>\n",
              "      <td>female</td>\n",
              "      <td>lower extremity</td>\n",
              "      <td>0</td>\n",
              "    </tr>\n",
              "    <tr>\n",
              "      <th>1</th>\n",
              "      <td>&lt;PIL.JpegImagePlugin.JpegImageFile image mode=...</td>\n",
              "      <td>ISIC_0024372</td>\n",
              "      <td>HAM_0005389</td>\n",
              "      <td>actinic_keratoses</td>\n",
              "      <td>histo</td>\n",
              "      <td>70.0</td>\n",
              "      <td>male</td>\n",
              "      <td>lower extremity</td>\n",
              "      <td>0</td>\n",
              "    </tr>\n",
              "    <tr>\n",
              "      <th>2</th>\n",
              "      <td>&lt;PIL.JpegImagePlugin.JpegImageFile image mode=...</td>\n",
              "      <td>ISIC_0024418</td>\n",
              "      <td>HAM_0003380</td>\n",
              "      <td>actinic_keratoses</td>\n",
              "      <td>histo</td>\n",
              "      <td>75.0</td>\n",
              "      <td>female</td>\n",
              "      <td>lower extremity</td>\n",
              "      <td>0</td>\n",
              "    </tr>\n",
              "    <tr>\n",
              "      <th>3</th>\n",
              "      <td>&lt;PIL.JpegImagePlugin.JpegImageFile image mode=...</td>\n",
              "      <td>ISIC_0024450</td>\n",
              "      <td>HAM_0005505</td>\n",
              "      <td>actinic_keratoses</td>\n",
              "      <td>histo</td>\n",
              "      <td>50.0</td>\n",
              "      <td>male</td>\n",
              "      <td>upper extremity</td>\n",
              "      <td>0</td>\n",
              "    </tr>\n",
              "    <tr>\n",
              "      <th>4</th>\n",
              "      <td>&lt;PIL.JpegImagePlugin.JpegImageFile image mode=...</td>\n",
              "      <td>ISIC_0024463</td>\n",
              "      <td>HAM_0004568</td>\n",
              "      <td>actinic_keratoses</td>\n",
              "      <td>histo</td>\n",
              "      <td>50.0</td>\n",
              "      <td>male</td>\n",
              "      <td>upper extremity</td>\n",
              "      <td>0</td>\n",
              "    </tr>\n",
              "  </tbody>\n",
              "</table>\n",
              "</div>\n",
              "    <div class=\"colab-df-buttons\">\n",
              "\n",
              "  <div class=\"colab-df-container\">\n",
              "    <button class=\"colab-df-convert\" onclick=\"convertToInteractive('df-96ca114b-c2c8-456e-bd65-4e090e95cf07')\"\n",
              "            title=\"Convert this dataframe to an interactive table.\"\n",
              "            style=\"display:none;\">\n",
              "\n",
              "  <svg xmlns=\"http://www.w3.org/2000/svg\" height=\"24px\" viewBox=\"0 -960 960 960\">\n",
              "    <path d=\"M120-120v-720h720v720H120Zm60-500h600v-160H180v160Zm220 220h160v-160H400v160Zm0 220h160v-160H400v160ZM180-400h160v-160H180v160Zm440 0h160v-160H620v160ZM180-180h160v-160H180v160Zm440 0h160v-160H620v160Z\"/>\n",
              "  </svg>\n",
              "    </button>\n",
              "\n",
              "  <style>\n",
              "    .colab-df-container {\n",
              "      display:flex;\n",
              "      gap: 12px;\n",
              "    }\n",
              "\n",
              "    .colab-df-convert {\n",
              "      background-color: #E8F0FE;\n",
              "      border: none;\n",
              "      border-radius: 50%;\n",
              "      cursor: pointer;\n",
              "      display: none;\n",
              "      fill: #1967D2;\n",
              "      height: 32px;\n",
              "      padding: 0 0 0 0;\n",
              "      width: 32px;\n",
              "    }\n",
              "\n",
              "    .colab-df-convert:hover {\n",
              "      background-color: #E2EBFA;\n",
              "      box-shadow: 0px 1px 2px rgba(60, 64, 67, 0.3), 0px 1px 3px 1px rgba(60, 64, 67, 0.15);\n",
              "      fill: #174EA6;\n",
              "    }\n",
              "\n",
              "    .colab-df-buttons div {\n",
              "      margin-bottom: 4px;\n",
              "    }\n",
              "\n",
              "    [theme=dark] .colab-df-convert {\n",
              "      background-color: #3B4455;\n",
              "      fill: #D2E3FC;\n",
              "    }\n",
              "\n",
              "    [theme=dark] .colab-df-convert:hover {\n",
              "      background-color: #434B5C;\n",
              "      box-shadow: 0px 1px 3px 1px rgba(0, 0, 0, 0.15);\n",
              "      filter: drop-shadow(0px 1px 2px rgba(0, 0, 0, 0.3));\n",
              "      fill: #FFFFFF;\n",
              "    }\n",
              "  </style>\n",
              "\n",
              "    <script>\n",
              "      const buttonEl =\n",
              "        document.querySelector('#df-96ca114b-c2c8-456e-bd65-4e090e95cf07 button.colab-df-convert');\n",
              "      buttonEl.style.display =\n",
              "        google.colab.kernel.accessAllowed ? 'block' : 'none';\n",
              "\n",
              "      async function convertToInteractive(key) {\n",
              "        const element = document.querySelector('#df-96ca114b-c2c8-456e-bd65-4e090e95cf07');\n",
              "        const dataTable =\n",
              "          await google.colab.kernel.invokeFunction('convertToInteractive',\n",
              "                                                    [key], {});\n",
              "        if (!dataTable) return;\n",
              "\n",
              "        const docLinkHtml = 'Like what you see? Visit the ' +\n",
              "          '<a target=\"_blank\" href=https://colab.research.google.com/notebooks/data_table.ipynb>data table notebook</a>'\n",
              "          + ' to learn more about interactive tables.';\n",
              "        element.innerHTML = '';\n",
              "        dataTable['output_type'] = 'display_data';\n",
              "        await google.colab.output.renderOutput(dataTable, element);\n",
              "        const docLink = document.createElement('div');\n",
              "        docLink.innerHTML = docLinkHtml;\n",
              "        element.appendChild(docLink);\n",
              "      }\n",
              "    </script>\n",
              "  </div>\n",
              "\n",
              "\n",
              "<div id=\"df-64937d2a-a7c0-4ccd-8643-75df393c69b7\">\n",
              "  <button class=\"colab-df-quickchart\" onclick=\"quickchart('df-64937d2a-a7c0-4ccd-8643-75df393c69b7')\"\n",
              "            title=\"Suggest charts\"\n",
              "            style=\"display:none;\">\n",
              "\n",
              "<svg xmlns=\"http://www.w3.org/2000/svg\" height=\"24px\"viewBox=\"0 0 24 24\"\n",
              "     width=\"24px\">\n",
              "    <g>\n",
              "        <path d=\"M19 3H5c-1.1 0-2 .9-2 2v14c0 1.1.9 2 2 2h14c1.1 0 2-.9 2-2V5c0-1.1-.9-2-2-2zM9 17H7v-7h2v7zm4 0h-2V7h2v10zm4 0h-2v-4h2v4z\"/>\n",
              "    </g>\n",
              "</svg>\n",
              "  </button>\n",
              "\n",
              "<style>\n",
              "  .colab-df-quickchart {\n",
              "      --bg-color: #E8F0FE;\n",
              "      --fill-color: #1967D2;\n",
              "      --hover-bg-color: #E2EBFA;\n",
              "      --hover-fill-color: #174EA6;\n",
              "      --disabled-fill-color: #AAA;\n",
              "      --disabled-bg-color: #DDD;\n",
              "  }\n",
              "\n",
              "  [theme=dark] .colab-df-quickchart {\n",
              "      --bg-color: #3B4455;\n",
              "      --fill-color: #D2E3FC;\n",
              "      --hover-bg-color: #434B5C;\n",
              "      --hover-fill-color: #FFFFFF;\n",
              "      --disabled-bg-color: #3B4455;\n",
              "      --disabled-fill-color: #666;\n",
              "  }\n",
              "\n",
              "  .colab-df-quickchart {\n",
              "    background-color: var(--bg-color);\n",
              "    border: none;\n",
              "    border-radius: 50%;\n",
              "    cursor: pointer;\n",
              "    display: none;\n",
              "    fill: var(--fill-color);\n",
              "    height: 32px;\n",
              "    padding: 0;\n",
              "    width: 32px;\n",
              "  }\n",
              "\n",
              "  .colab-df-quickchart:hover {\n",
              "    background-color: var(--hover-bg-color);\n",
              "    box-shadow: 0 1px 2px rgba(60, 64, 67, 0.3), 0 1px 3px 1px rgba(60, 64, 67, 0.15);\n",
              "    fill: var(--button-hover-fill-color);\n",
              "  }\n",
              "\n",
              "  .colab-df-quickchart-complete:disabled,\n",
              "  .colab-df-quickchart-complete:disabled:hover {\n",
              "    background-color: var(--disabled-bg-color);\n",
              "    fill: var(--disabled-fill-color);\n",
              "    box-shadow: none;\n",
              "  }\n",
              "\n",
              "  .colab-df-spinner {\n",
              "    border: 2px solid var(--fill-color);\n",
              "    border-color: transparent;\n",
              "    border-bottom-color: var(--fill-color);\n",
              "    animation:\n",
              "      spin 1s steps(1) infinite;\n",
              "  }\n",
              "\n",
              "  @keyframes spin {\n",
              "    0% {\n",
              "      border-color: transparent;\n",
              "      border-bottom-color: var(--fill-color);\n",
              "      border-left-color: var(--fill-color);\n",
              "    }\n",
              "    20% {\n",
              "      border-color: transparent;\n",
              "      border-left-color: var(--fill-color);\n",
              "      border-top-color: var(--fill-color);\n",
              "    }\n",
              "    30% {\n",
              "      border-color: transparent;\n",
              "      border-left-color: var(--fill-color);\n",
              "      border-top-color: var(--fill-color);\n",
              "      border-right-color: var(--fill-color);\n",
              "    }\n",
              "    40% {\n",
              "      border-color: transparent;\n",
              "      border-right-color: var(--fill-color);\n",
              "      border-top-color: var(--fill-color);\n",
              "    }\n",
              "    60% {\n",
              "      border-color: transparent;\n",
              "      border-right-color: var(--fill-color);\n",
              "    }\n",
              "    80% {\n",
              "      border-color: transparent;\n",
              "      border-right-color: var(--fill-color);\n",
              "      border-bottom-color: var(--fill-color);\n",
              "    }\n",
              "    90% {\n",
              "      border-color: transparent;\n",
              "      border-bottom-color: var(--fill-color);\n",
              "    }\n",
              "  }\n",
              "</style>\n",
              "\n",
              "  <script>\n",
              "    async function quickchart(key) {\n",
              "      const quickchartButtonEl =\n",
              "        document.querySelector('#' + key + ' button');\n",
              "      quickchartButtonEl.disabled = true;  // To prevent multiple clicks.\n",
              "      quickchartButtonEl.classList.add('colab-df-spinner');\n",
              "      try {\n",
              "        const charts = await google.colab.kernel.invokeFunction(\n",
              "            'suggestCharts', [key], {});\n",
              "      } catch (error) {\n",
              "        console.error('Error during call to suggestCharts:', error);\n",
              "      }\n",
              "      quickchartButtonEl.classList.remove('colab-df-spinner');\n",
              "      quickchartButtonEl.classList.add('colab-df-quickchart-complete');\n",
              "    }\n",
              "    (() => {\n",
              "      let quickchartButtonEl =\n",
              "        document.querySelector('#df-64937d2a-a7c0-4ccd-8643-75df393c69b7 button');\n",
              "      quickchartButtonEl.style.display =\n",
              "        google.colab.kernel.accessAllowed ? 'block' : 'none';\n",
              "    })();\n",
              "  </script>\n",
              "</div>\n",
              "\n",
              "    </div>\n",
              "  </div>\n"
            ],
            "application/vnd.google.colaboratory.intrinsic+json": {
              "type": "dataframe",
              "variable_name": "df_train",
              "summary": "{\n  \"name\": \"df_train\",\n  \"rows\": 4000,\n  \"fields\": [\n    {\n      \"column\": \"image\",\n      \"properties\": {\n        \"dtype\": \"object\",\n        \"semantic_type\": \"\",\n        \"description\": \"\"\n      }\n    },\n    {\n      \"column\": \"image_id\",\n      \"properties\": {\n        \"dtype\": \"string\",\n        \"num_unique_values\": 4000,\n        \"samples\": [\n          \"ISIC_0029020\",\n          \"ISIC_0026615\",\n          \"ISIC_0028653\"\n        ],\n        \"semantic_type\": \"\",\n        \"description\": \"\"\n      }\n    },\n    {\n      \"column\": \"lesion_id\",\n      \"properties\": {\n        \"dtype\": \"string\",\n        \"num_unique_values\": 3234,\n        \"samples\": [\n          \"HAM_0001160\",\n          \"HAM_0001643\",\n          \"HAM_0000288\"\n        ],\n        \"semantic_type\": \"\",\n        \"description\": \"\"\n      }\n    },\n    {\n      \"column\": \"dx\",\n      \"properties\": {\n        \"dtype\": \"category\",\n        \"num_unique_values\": 5,\n        \"samples\": [\n          \"basal_cell_carcinoma\",\n          \"melanocytic_Nevi\",\n          \"benign_keratosis-like_lesions\"\n        ],\n        \"semantic_type\": \"\",\n        \"description\": \"\"\n      }\n    },\n    {\n      \"column\": \"dx_type\",\n      \"properties\": {\n        \"dtype\": \"category\",\n        \"num_unique_values\": 4,\n        \"samples\": [\n          \"consensus\",\n          \"follow_up\",\n          \"histo\"\n        ],\n        \"semantic_type\": \"\",\n        \"description\": \"\"\n      }\n    },\n    {\n      \"column\": \"age\",\n      \"properties\": {\n        \"dtype\": \"number\",\n        \"std\": 16.987387955525683,\n        \"min\": 0.0,\n        \"max\": 85.0,\n        \"num_unique_values\": 18,\n        \"samples\": [\n          75.0,\n          70.0,\n          80.0\n        ],\n        \"semantic_type\": \"\",\n        \"description\": \"\"\n      }\n    },\n    {\n      \"column\": \"sex\",\n      \"properties\": {\n        \"dtype\": \"category\",\n        \"num_unique_values\": 3,\n        \"samples\": [\n          \"female\",\n          \"male\",\n          \"unknown\"\n        ],\n        \"semantic_type\": \"\",\n        \"description\": \"\"\n      }\n    },\n    {\n      \"column\": \"localization\",\n      \"properties\": {\n        \"dtype\": \"category\",\n        \"num_unique_values\": 14,\n        \"samples\": [\n          \"hand\",\n          \"unknown\",\n          \"lower extremity\"\n        ],\n        \"semantic_type\": \"\",\n        \"description\": \"\"\n      }\n    },\n    {\n      \"column\": \"class\",\n      \"properties\": {\n        \"dtype\": \"number\",\n        \"std\": 0,\n        \"min\": 0,\n        \"max\": 0,\n        \"num_unique_values\": 1,\n        \"samples\": [\n          0\n        ],\n        \"semantic_type\": \"\",\n        \"description\": \"\"\n      }\n    }\n  ]\n}"
            }
          },
          "metadata": {},
          "execution_count": 40
        }
      ]
    },
    {
      "cell_type": "code",
      "source": [
        "# Convertendo para um DataFrame pandas o dataset de Teste\n",
        "df_teste = pd.DataFrame(subset_dataset_teste, columns=subset_dataset_teste.features)\n",
        "df_teste['class'] = 0\n",
        "df_teste.head()"
      ],
      "metadata": {
        "id": "xYuloL_nSid6"
      },
      "execution_count": null,
      "outputs": []
    },
    {
      "cell_type": "code",
      "source": [
        "# Convertendo para um DataFrame pandas o dataset de aval\n",
        "df_aval = pd.DataFrame(subset_dataset_aval, columns=subset_dataset_teste.features)\n",
        "df_aval['class'] = 0\n",
        "df_aval.head()"
      ],
      "metadata": {
        "id": "rzS-H1gyQx4O"
      },
      "execution_count": null,
      "outputs": []
    },
    {
      "cell_type": "code",
      "source": [
        "def calcula_classe_cancer(cancer):\n",
        "  vcancer = cancer\n",
        "  if cancer == 'melanoma' or cancer == 'basal_cell_carcinoma' or cancer == 'melanocytic_Nevi' :\n",
        "    return \"Cancer Positivo\"\n",
        "  else :\n",
        "     return \"Cancer Negativo\"\n",
        "\n",
        "# Função que atribuiu a variável \"class\" com valores categóricos\n",
        "def define_classe_cancer(cancer):\n",
        "  vcancer = cancer\n",
        "  if cancer == 'melanoma' or cancer == 'basal_cell_carcinoma' or cancer == 'melanocytic_Nevi' :\n",
        "    return 1\n",
        "  else :\n",
        "    return 0\n",
        ""
      ],
      "metadata": {
        "id": "66C5bUsguA54"
      },
      "execution_count": null,
      "outputs": []
    },
    {
      "cell_type": "code",
      "source": [
        "# Atribuiu a variável \"class\" com valores categóricos no dataset\n",
        "for i in range(tam_test_dataset):\n",
        "  vclasse = define_classe_cancer(df_teste['dx'][i])\n",
        "  df_teste.loc[i,'class'] = (vclasse)\n",
        "\n",
        "for i in range(tam_train_dataset):\n",
        "  vclasse = define_classe_cancer(df_train['dx'][i])\n",
        "  df_train.loc[i,'class'] = (vclasse)\n",
        "\n",
        "for i in range(tam_aval_dataset):\n",
        "  vclasse = define_classe_cancer(df_aval['dx'][i])\n",
        "  df_aval.loc[i,'class'] = (vclasse)"
      ],
      "metadata": {
        "id": "-0rWf02codhO"
      },
      "execution_count": null,
      "outputs": []
    },
    {
      "cell_type": "code",
      "source": [
        "# Definação do tamanho do batch e as dimensões das imagens\n",
        "batch_size = 32\n",
        "img_height = 224\n",
        "img_width = 224\n",
        "num_classes = 5"
      ],
      "metadata": {
        "id": "IpXobQW4fbPA"
      },
      "execution_count": null,
      "outputs": []
    },
    {
      "cell_type": "code",
      "source": [
        "#Visualização do número de imagens por classe\n",
        "print((df_teste['dx']).value_counts())\n",
        "\n",
        "plt.figure(figsize=(18, 5))\n",
        "fire_count = df_teste['dx'].value_counts().plot.bar(title='Dados disponíveis Imagens de Testes por tipo')\n",
        "plt.subplots_adjust(top=0.9)\n",
        "plt.xticks(rotation=360)\n",
        "plt.show()"
      ],
      "metadata": {
        "id": "hmlzB8MPNOOj"
      },
      "execution_count": null,
      "outputs": []
    },
    {
      "cell_type": "code",
      "source": [
        "#Visualização do número de imagens por classe no dataset de teste\n",
        "print((df_teste['class']).value_counts())\n",
        "\n",
        "plt.figure(figsize=(18, 5))\n",
        "fire_count = df_teste['class'].value_counts().plot.bar(title='Dados disponíveis Imagens de Testes - Positivp x Negativo')\n",
        "plt.subplots_adjust(top=0.9)\n",
        "plt.xticks(rotation=360)\n",
        "plt.tight_layout()\n",
        "plt.ylabel('Quantidade')\n",
        "plt.xlabel('Cancer')\n",
        "plt.show()"
      ],
      "metadata": {
        "id": "_JfBBG0-Sxl5"
      },
      "execution_count": null,
      "outputs": []
    },
    {
      "cell_type": "code",
      "source": [
        "#Visualização do número de imagens por classe no dataset de treinamento\n",
        "print((df_train['dx']).value_counts())\n",
        "\n",
        "plt.figure(figsize=(18, 5))\n",
        "fire_count = df_train['dx'].value_counts().plot.bar(title='Dados disponíveis Imagens de Treinamento')\n",
        "plt.subplots_adjust(top=0.9)\n",
        "plt.xticks(rotation=360)\n",
        "plt.show()"
      ],
      "metadata": {
        "id": "d_TR4hHshOeT"
      },
      "execution_count": null,
      "outputs": []
    },
    {
      "cell_type": "code",
      "source": [
        "#Visualização do número de imagens por classe no dataset de teste\n",
        "print((df_train['class']).value_counts())\n",
        "\n",
        "plt.figure(figsize=(18, 5))\n",
        "fire_count = df_train['class'].value_counts().plot.bar(title='Dados disponíveis Imagens de Treinamento - Positivp x Negativo')\n",
        "plt.subplots_adjust(top=0.9)\n",
        "plt.xticks(rotation=360)\n",
        "plt.tight_layout()\n",
        "plt.ylabel('Quantidade')\n",
        "plt.xlabel('Cancer')\n",
        "plt.show()"
      ],
      "metadata": {
        "id": "nAhUSKODU0xA"
      },
      "execution_count": null,
      "outputs": []
    },
    {
      "cell_type": "code",
      "source": [
        "images = df_teste['image']\n",
        "print(images)"
      ],
      "metadata": {
        "id": "5Yvy118BjT_H"
      },
      "execution_count": null,
      "outputs": []
    },
    {
      "cell_type": "code",
      "source": [
        "df_teste['class'] = df_teste['class'].astype('str')\n",
        "df_teste['image'] = df_teste['image'].astype('str')\n",
        "\n",
        "fig = plt.gcf()\n",
        "fig.set_size_inches(3*4, 3*4)\n",
        "\n",
        "# Visualizando apenas 12 imagens Teste\n",
        "for i in range(12):\n",
        "    sp = plt.subplot(3, 4, i + 1)\n",
        "    sp.axis('Off')\n",
        "    img_train = dataset[\"test\"][i]['image'].resize((img_height, img_width))\n",
        "    verifica_positivo=calcula_classe_cancer(dataset[\"test\"][i]['dx'])\n",
        "    plt.title(verifica_positivo)\n",
        "    plt.imshow(img_train)\n",
        "\n",
        "print(f\"Exemplos de 12 imagens de Teste: \\n\")\n",
        "plt.axis('off')  # Para não exibir os eixos\n",
        "plt.show()"
      ],
      "metadata": {
        "id": "p1ietKrHTILK"
      },
      "execution_count": null,
      "outputs": []
    },
    {
      "cell_type": "code",
      "source": [
        "fig = plt.gcf()\n",
        "fig.set_size_inches(3*4, 3*4)\n",
        "\n",
        "# Visualizando apenas 12 imagens Treinamento\n",
        "for i in range(12):\n",
        "    sp = plt.subplot(3, 4, i + 1)\n",
        "    sp.axis('Off')\n",
        "    img_train = dataset[\"train\"][i]['image'].resize((img_height, img_width))\n",
        "    verifica_positivo=calcula_classe_cancer(dataset[\"test\"][i]['dx'])\n",
        "    plt.title(verifica_positivo)\n",
        "    plt.imshow(img_train)\n",
        "\n",
        "print(f\"Exemplos de 12 imagens de Treinamento: \\n\")\n",
        "plt.axis('off')  # Para não exibir os eixos\n",
        "plt.show()"
      ],
      "metadata": {
        "id": "4RJc4iEzmvu3"
      },
      "execution_count": null,
      "outputs": []
    },
    {
      "cell_type": "markdown",
      "source": [
        "## 4. Treinamento do modelo de deep learning"
      ],
      "metadata": {
        "id": "swZZcjD3A3XU"
      }
    },
    {
      "cell_type": "code",
      "source": [
        "path = 'datasets/train'\n",
        "\n",
        "train_dir = 'datasets/train'\n",
        "test_dir = 'datasets/test'\n",
        "val_dir = 'datasets/aval'\n",
        "\n",
        "train_datagen=ImageDataGenerator(validation_split=0.2, #include validation split\n",
        "                                 rescale = 1.0/255,\n",
        "                                    #rotation_range=40,\n",
        "                                    shear_range=0.2,\n",
        "                                    zoom_range=0.2,\n",
        "                                    horizontal_flip=True,\n",
        "                                    fill_mode='nearest')\n",
        "\n",
        "test_datagen=ImageDataGenerator(rescale=1./255)"
      ],
      "metadata": {
        "id": "eRVtFRb4S69h"
      },
      "execution_count": null,
      "outputs": []
    },
    {
      "cell_type": "code",
      "source": [
        "train_generator=train_datagen.flow_from_dataframe(\n",
        "    df_teste ,train_dir,\n",
        "    target_size=(150,150),\n",
        "    batch_size=100, #50\n",
        "    class_mode='binary',\n",
        "    x_col='image',\n",
        "    y_col='class',\n",
        "    subset='training' #training set\n",
        "    )\n",
        "\n",
        "val_generator=train_datagen.flow_from_dataframe(\n",
        "    df_teste ,val_dir,\n",
        "    target_size=(150,150),\n",
        "    batch_size=100, #50\n",
        "    class_mode='binary',\n",
        "    x_col='image',\n",
        "    y_col='class',\n",
        "    subset='validation' #validation set\n",
        "    )\n",
        "\n",
        "test_generator=test_datagen.flow_from_dataframe(\n",
        "    df_teste ,test_dir,\n",
        "    target_size=(150,150),\n",
        "    batch_size=100, #50\n",
        "    class_mode='binary',\n",
        "    x_col='image',\n",
        "    y_col='class'\n",
        "    )"
      ],
      "metadata": {
        "id": "NeSdRjvgTBBh"
      },
      "execution_count": null,
      "outputs": []
    },
    {
      "cell_type": "code",
      "source": [
        "model=models.Sequential()\n",
        "model.add(layers.Conv2D(32 ,(3,3) , activation='relu' , input_shape=(150,150,3 ) ) )\n",
        "model.add(layers.MaxPooling2D( (2,2)))\n",
        "\n",
        "model.add(layers.Conv2D(64 , (3,3) , activation='relu'))\n",
        "model.add(layers.MaxPooling2D( (2,2)))\n",
        "\n",
        "model.add(layers.Conv2D(128 , (3,3) , activation='relu'))\n",
        "model.add(layers.MaxPooling2D( (2,2)))\n",
        "\n",
        "model.add(layers.Conv2D(128 , (3,3) , activation='relu'))\n",
        "model.add(layers.MaxPooling2D( (2,2)))\n",
        "\n"
      ],
      "metadata": {
        "id": "llZn3-_7keAA"
      },
      "execution_count": null,
      "outputs": []
    },
    {
      "cell_type": "code",
      "source": [
        "model.add(layers.Flatten() )\n",
        "model.add(layers.Dropout(0.25))\n",
        "model.add(layers.Dense( 512 ,activation='relu' ))\n",
        "model.add(layers.Dropout(0.25))\n",
        "model.add(layers.Dense( 1 , activation='sigmoid' ) )"
      ],
      "metadata": {
        "id": "oOaNyJ_dgOQG"
      },
      "execution_count": null,
      "outputs": []
    },
    {
      "cell_type": "code",
      "source": [
        "model.summary()"
      ],
      "metadata": {
        "id": "jP-Po4bagVGA"
      },
      "execution_count": null,
      "outputs": []
    },
    {
      "cell_type": "code",
      "source": [
        "model.compile(optimizer='adam', loss='binary_crossentropy' , metrics=['accuracy'])\n",
        "\n",
        "if len(train_generator) > 0   :\n",
        "      history=model.fit_generator(train_generator,\n",
        "                                  epochs=20,\n",
        "                                  validation_data=val_generator);\n",
        "\n",
        "      # livro jornada python pag 493\n",
        "      plt.xlabel('Época')\n",
        "      plt.ylabel('Acurácia')\n",
        "      plt.plot(history.history['accuracy'], '--')\n",
        "      plt.plot(history.history['val_accuracy'])\n",
        "      plt.title(\"Evolução da acurácia por épocas\")\n",
        "      plt.legend(['Treino', 'Validação'])\n",
        "      plt.show();"
      ],
      "metadata": {
        "id": "PJLC8Fexgk0M"
      },
      "execution_count": null,
      "outputs": []
    },
    {
      "cell_type": "markdown",
      "source": [
        "5 - Conclusão\n",
        "\n",
        "Neste MVP, foi o inicio de um projeto de grande potencial e com possibilidades de amadureciimento, crescimento e varias sprints para  diversas areas da medicina. No enatnto, objtive dificuldades iniciais por limitações na CPU do Colab, supernado esse aspecto é um projeto com grande possibilidade e idéias."
      ],
      "metadata": {
        "id": "9pHLGyKxgqng"
      }
    }
  ]
}