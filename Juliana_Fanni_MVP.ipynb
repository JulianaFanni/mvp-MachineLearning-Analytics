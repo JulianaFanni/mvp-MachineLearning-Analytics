{
  "nbformat": 4,
  "nbformat_minor": 0,
  "metadata": {
    "colab": {
      "provenance": [],
      "authorship_tag": "ABX9TyMyfzGlctmwHbgVOCGcv4WS",
      "include_colab_link": true
    },
    "kernelspec": {
      "name": "python3",
      "display_name": "Python 3"
    },
    "language_info": {
      "name": "python"
    }
  },
  "cells": [
    {
      "cell_type": "markdown",
      "metadata": {
        "id": "view-in-github",
        "colab_type": "text"
      },
      "source": [
        "<a href=\"https://colab.research.google.com/github/JulianaFanni/mvp-MachineLearning-Analytics/blob/main/Juliana_Fanni_MVP.ipynb\" target=\"_parent\"><img src=\"https://colab.research.google.com/assets/colab-badge.svg\" alt=\"Open In Colab\"/></a>"
      ]
    },
    {
      "cell_type": "code",
      "execution_count": null,
      "metadata": {
        "id": "8Rf8OFHrMUsq"
      },
      "outputs": [],
      "source": []
    },
    {
      "cell_type": "markdown",
      "source": [
        "MVP Juliana Fanni - Análise de Dados e Boas Práticas\n",
        "MVP de Análise de Dados e Boas Práticas\n",
        "\n",
        "Profs. Tatiana Escovedo e Hugo Villamizar\n",
        "\n",
        "Aluna: Juliana Cardozo Pereira Fann\n",
        "\n",
        "1. Definição do Problema"
      ],
      "metadata": {
        "id": "W57QZJHpMilq"
      }
    }
  ]
}